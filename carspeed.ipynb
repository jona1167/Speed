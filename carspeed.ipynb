{
 "cells": [
  {
   "cell_type": "code",
   "execution_count": 5,
   "id": "1217aa5b",
   "metadata": {},
   "outputs": [
    {
     "name": "stdout",
     "output_type": "stream",
     "text": [
      "Car Number 43 Speed: 1419.43 KM/H\n",
      "Car Number 44 Speed: 1401.38 KM/H\n",
      "Car Number 45 Speed: 1327.81 KM/H\n",
      "Car Number 46 Speed: 922.08 KM/H\n",
      "Car Number 47 Speed: 909.79 KM/H\n",
      "Car Number 48 Speed: 885.14 KM/H\n",
      "Car Number 49 Speed: 872.81 KM/H\n",
      "Car Number 50 Speed: 850.18 KM/H\n"
     ]
    }
   ],
   "source": [
    "import cv2\n",
    "import time\n",
    "import numpy as np\n",
    "import threading\n",
    "import ipywidgets as widgets\n",
    "from IPython.display import display\n",
    "\n",
    "# Set the path for the cascade file\n",
    "cascade_src = 'dataset/cars1.xml'\n",
    "\n",
    "# Set the coordinates for Line A\n",
    "ax1 = 100\n",
    "ay = 50\n",
    "ax2 = 300\n",
    "\n",
    "# Set the coordinates for Line B\n",
    "bx1 = 100\n",
    "by = 200  \n",
    "bx2 = 300\n",
    "\n",
    "# Initialize car number and start time\n",
    "i = 1\n",
    "start_time = time.time()\n",
    "\n",
    "# Create an empty list to store the frames\n",
    "frames = []\n",
    "\n",
    "# Create a VideoCapture object for webcam\n",
    "cap = cv2.VideoCapture(0)\n",
    "car_cascade = cv2.CascadeClassifier(cascade_src)"
   ]
  },
  {
   "cell_type": "code",
   "execution_count": 2,
   "id": "998e4005",
   "metadata": {},
   "outputs": [],
   "source": [
    "\n",
    "# Create a function to calculate speed\n",
    "def calculate_speed(time_diff):\n",
    "    # Assuming the distance between line a and line b is known in pixels\n",
    "    distance_pixels = bx2 - ax2\n",
    "    # Assuming the distance between line a and line b is known in meters\n",
    "    distance_meters = 10  # Adjust this value according to the actual distance in meters\n",
    "\n",
    "    # Calculate the time in seconds\n",
    "    time_seconds = time_diff / 1000\n",
    "\n",
    "    # Calculate the speed in meters per second\n",
    "    speed_mps = distance_meters / time_seconds\n",
    "\n",
    "    # Convert the speed to kilometers per hour\n",
    "    speed_kph = speed_mps * 3.6\n",
    "\n",
    "    return round(speed_kph, 2)"
   ]
  },
  {
   "cell_type": "code",
   "execution_count": 3,
   "id": "b8cf68f9",
   "metadata": {},
   "outputs": [
    {
     "data": {
      "application/vnd.jupyter.widget-view+json": {
       "model_id": "adfe07399b4d4f0ea40945d4a3b988eb",
       "version_major": 2,
       "version_minor": 0
      },
      "text/plain": [
       "Image(value=b'', format='jpeg', height='480', width='640')"
      ]
     },
     "metadata": {},
     "output_type": "display_data"
    }
   ],
   "source": [
    "# Create the video widget\n",
    "video_widget = widgets.Image(format='jpeg', width=640, height=480)\n",
    "\n",
    "# Display the video widget\n",
    "display(video_widget)"
   ]
  },
  {
   "cell_type": "code",
   "execution_count": 4,
   "id": "ff2f450a",
   "metadata": {},
   "outputs": [
    {
     "name": "stdout",
     "output_type": "stream",
     "text": [
      "Car Number 1 Speed: 5356.3 KM/H\n",
      "Car Number 2 Speed: 4621.91 KM/H\n",
      "Car Number 3 Speed: 4603.58 KM/H\n",
      "Car Number 4 Speed: 4585.11 KM/H\n",
      "Car Number 5 Speed: 4428.2 KM/H\n",
      "Car Number 6 Speed: 4353.25 KM/H\n",
      "Car Number 7 Speed: 4337.25 KM/H\n",
      "Car Number 8 Speed: 4203.49 KM/H\n",
      "Car Number 9 Speed: 4180.78 KM/H\n",
      "Car Number 10 Speed: 4165.54 KM/H\n",
      "Car Number 11 Speed: 4151.13 KM/H\n",
      "Car Number 12 Speed: 4114.12 KM/H\n",
      "Car Number 13 Speed: 4099.6 KM/H\n",
      "Car Number 14 Speed: 4085.17 KM/H\n",
      "Car Number 15 Speed: 4071.08 KM/H\n",
      "Car Number 16 Speed: 4056.63 KM/H\n",
      "Car Number 17 Speed: 4042.73 KM/H\n",
      "Car Number 18 Speed: 4028.25 KM/H\n",
      "Car Number 19 Speed: 4007.4 KM/H\n",
      "Car Number 20 Speed: 3994.06 KM/H\n",
      "Car Number 21 Speed: 3980.36 KM/H\n",
      "Car Number 22 Speed: 3966.76 KM/H\n",
      "Car Number 23 Speed: 3953.26 KM/H\n",
      "Car Number 24 Speed: 3836.06 KM/H\n",
      "Car Number 25 Speed: 3823.23 KM/H\n",
      "Car Number 26 Speed: 3050.58 KM/H\n",
      "Car Number 27 Speed: 3042.33 KM/H\n",
      "Car Number 28 Speed: 3034.76 KM/H\n",
      "Car Number 29 Speed: 3025.96 KM/H\n",
      "Car Number 30 Speed: 3018.73 KM/H\n",
      "Car Number 31 Speed: 3010.9 KM/H\n",
      "Car Number 32 Speed: 2995.42 KM/H\n",
      "Car Number 33 Speed: 2987.47 KM/H\n",
      "Car Number 34 Speed: 2980.05 KM/H\n",
      "Car Number 35 Speed: 2972.42 KM/H\n",
      "Car Number 36 Speed: 2964.71 KM/H\n",
      "Car Number 37 Speed: 2957.63 KM/H\n",
      "Car Number 38 Speed: 2949.87 KM/H\n",
      "Car Number 39 Speed: 2518.51 KM/H\n",
      "Car Number 40 Speed: 2168.19 KM/H\n",
      "Car Number 41 Speed: 2142.12 KM/H\n",
      "Car Number 42 Speed: 1936.51 KM/H\n"
     ]
    }
   ],
   "source": [
    "\n",
    "def process_frame(i):\n",
    "    while True:\n",
    "        # Read the next frame from the webcam\n",
    "        ret, img = cap.read()\n",
    "        if not ret:\n",
    "            break\n",
    "\n",
    "        # Apply blurring to improve detection\n",
    "        blurred = cv2.blur(img, ksize=(15, 15))\n",
    "        gray = cv2.cvtColor(blurred, cv2.COLOR_BGR2GRAY)\n",
    "\n",
    "        # Detect cars in the frame\n",
    "        cars = car_cascade.detectMultiScale(gray, 1.1, 2)\n",
    "\n",
    "        # Draw line a and line b on the frame\n",
    "        cv2.line(img, (ax1, ay), (ax2, ay), (0, 255, 0), 2)\n",
    "        cv2.line(img, (bx1, by), (bx2, by), (255, 0, 0), 2)\n",
    "\n",
    "        for (x, y, w, h) in cars:\n",
    "            # Draw rectangles around the detected cars\n",
    "            cv2.rectangle(img, (x, y), (x+w, y+h), (0, 0, 255), 2)\n",
    "            # Draw circles at the center of the detected cars\n",
    "            cv2.circle(img, (int((x+x+w)/2), int((y+y+h)/2)), 1, (0, 255, 0), -1)\n",
    "\n",
    "            # Check if the car crosses line a\n",
    "            if int(ay) <= int((y+y+h)/2):\n",
    "                # Check if the car is between line b\n",
    "                if int(by) <= int((y+y+h)/2) <= int(by+10):\n",
    "                    # Calculate the speed and print it\n",
    "                    speed = calculate_speed(time.time() - start_time)\n",
    "                    print(\"Car Number\", i, \"Speed:\", speed, \"KM/H\")\n",
    "                    i += 1\n",
    "                    # Draw the speed on the frame\n",
    "                    cv2.putText(img, \"Speed: {} KM/H\".format(speed), (x, y-15), cv2.FONT_HERSHEY_SIMPLEX, 1, (255, 0, 0), 3)\n",
    "                    break\n",
    "                else:\n",
    "                    # Draw \"Calculating\" text on the frame if the car is not between line b\n",
    "                    cv2.putText(img, \"Calculating\", (100, 200), cv2.FONT_HERSHEY_SIMPLEX, 1, (0, 255, 0), 3)\n",
    "                    break\n",
    "\n",
    "        # Append the current frame to the list\n",
    "        frames.append(cv2.cvtColor(img, cv2.COLOR_BGR2RGB))\n",
    "\n",
    "        # Display the frame using OpenCV\n",
    "        _, jpeg_frame = cv2.imencode('.jpeg', img)\n",
    "        video_widget.value = jpeg_frame.tobytes()\n",
    "\n",
    "        # Break the loop if 'q' key is pressed\n",
    "        if cv2.waitKey(1) & 0xFF == ord('q'):\n",
    "            break\n",
    "\n",
    "    # Release the VideoCapture object and close all windows\n",
    "    cap.release()\n",
    "    cv2.destroyAllWindows()\n",
    "\n",
    "# Start the thread to process frames\n",
    "thread = threading.Thread(target=process_frame, args=(i,))\n",
    "thread.start()\n"
   ]
  },
  {
   "cell_type": "code",
   "execution_count": null,
   "id": "c6cb384b",
   "metadata": {},
   "outputs": [],
   "source": []
  }
 ],
 "metadata": {
  "kernelspec": {
   "display_name": "Python 3 (ipykernel)",
   "language": "python",
   "name": "python3"
  },
  "language_info": {
   "codemirror_mode": {
    "name": "ipython",
    "version": 3
   },
   "file_extension": ".py",
   "mimetype": "text/x-python",
   "name": "python",
   "nbconvert_exporter": "python",
   "pygments_lexer": "ipython3",
   "version": "3.11.5"
  }
 },
 "nbformat": 4,
 "nbformat_minor": 5
}
